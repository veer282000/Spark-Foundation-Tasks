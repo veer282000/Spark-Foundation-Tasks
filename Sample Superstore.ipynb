{
 "cells": [
  {
   "cell_type": "markdown",
   "metadata": {},
   "source": [
    "# Author:Veer Kumar"
   ]
  },
  {
   "cell_type": "markdown",
   "metadata": {},
   "source": [
    "# Task 3: Exploratory Data Analysis(EDA) of Sample Superstore"
   ]
  },
  {
   "cell_type": "code",
   "execution_count": 3,
   "metadata": {},
   "outputs": [],
   "source": [
    "#importing necassary libraries\n",
    "import pandas as pd\n",
    "import numpy as np\n",
    "import seaborn as sns\n",
    "import matplotlib.pyplot as plt\n",
    "%matplotlib inline"
   ]
  },
  {
   "cell_type": "markdown",
   "metadata": {},
   "source": [
    "# Loading the dataset:\n"
   ]
  },
  {
   "cell_type": "code",
   "execution_count": 4,
   "metadata": {
    "scrolled": true
   },
   "outputs": [
    {
     "data": {
      "text/html": [
       "<div>\n",
       "<style scoped>\n",
       "    .dataframe tbody tr th:only-of-type {\n",
       "        vertical-align: middle;\n",
       "    }\n",
       "\n",
       "    .dataframe tbody tr th {\n",
       "        vertical-align: top;\n",
       "    }\n",
       "\n",
       "    .dataframe thead th {\n",
       "        text-align: right;\n",
       "    }\n",
       "</style>\n",
       "<table border=\"1\" class=\"dataframe\">\n",
       "  <thead>\n",
       "    <tr style=\"text-align: right;\">\n",
       "      <th></th>\n",
       "      <th>Ship Mode</th>\n",
       "      <th>Segment</th>\n",
       "      <th>Country</th>\n",
       "      <th>City</th>\n",
       "      <th>State</th>\n",
       "      <th>Postal Code</th>\n",
       "      <th>Region</th>\n",
       "      <th>Category</th>\n",
       "      <th>Sub-Category</th>\n",
       "      <th>Sales</th>\n",
       "      <th>Quantity</th>\n",
       "      <th>Discount</th>\n",
       "      <th>Profit</th>\n",
       "    </tr>\n",
       "  </thead>\n",
       "  <tbody>\n",
       "    <tr>\n",
       "      <th>0</th>\n",
       "      <td>Second Class</td>\n",
       "      <td>Consumer</td>\n",
       "      <td>United States</td>\n",
       "      <td>Henderson</td>\n",
       "      <td>Kentucky</td>\n",
       "      <td>42420</td>\n",
       "      <td>South</td>\n",
       "      <td>Furniture</td>\n",
       "      <td>Bookcases</td>\n",
       "      <td>261.9600</td>\n",
       "      <td>2</td>\n",
       "      <td>0.00</td>\n",
       "      <td>41.9136</td>\n",
       "    </tr>\n",
       "    <tr>\n",
       "      <th>1</th>\n",
       "      <td>Second Class</td>\n",
       "      <td>Consumer</td>\n",
       "      <td>United States</td>\n",
       "      <td>Henderson</td>\n",
       "      <td>Kentucky</td>\n",
       "      <td>42420</td>\n",
       "      <td>South</td>\n",
       "      <td>Furniture</td>\n",
       "      <td>Chairs</td>\n",
       "      <td>731.9400</td>\n",
       "      <td>3</td>\n",
       "      <td>0.00</td>\n",
       "      <td>219.5820</td>\n",
       "    </tr>\n",
       "    <tr>\n",
       "      <th>2</th>\n",
       "      <td>Second Class</td>\n",
       "      <td>Corporate</td>\n",
       "      <td>United States</td>\n",
       "      <td>Los Angeles</td>\n",
       "      <td>California</td>\n",
       "      <td>90036</td>\n",
       "      <td>West</td>\n",
       "      <td>Office Supplies</td>\n",
       "      <td>Labels</td>\n",
       "      <td>14.6200</td>\n",
       "      <td>2</td>\n",
       "      <td>0.00</td>\n",
       "      <td>6.8714</td>\n",
       "    </tr>\n",
       "    <tr>\n",
       "      <th>3</th>\n",
       "      <td>Standard Class</td>\n",
       "      <td>Consumer</td>\n",
       "      <td>United States</td>\n",
       "      <td>Fort Lauderdale</td>\n",
       "      <td>Florida</td>\n",
       "      <td>33311</td>\n",
       "      <td>South</td>\n",
       "      <td>Furniture</td>\n",
       "      <td>Tables</td>\n",
       "      <td>957.5775</td>\n",
       "      <td>5</td>\n",
       "      <td>0.45</td>\n",
       "      <td>-383.0310</td>\n",
       "    </tr>\n",
       "    <tr>\n",
       "      <th>4</th>\n",
       "      <td>Standard Class</td>\n",
       "      <td>Consumer</td>\n",
       "      <td>United States</td>\n",
       "      <td>Fort Lauderdale</td>\n",
       "      <td>Florida</td>\n",
       "      <td>33311</td>\n",
       "      <td>South</td>\n",
       "      <td>Office Supplies</td>\n",
       "      <td>Storage</td>\n",
       "      <td>22.3680</td>\n",
       "      <td>2</td>\n",
       "      <td>0.20</td>\n",
       "      <td>2.5164</td>\n",
       "    </tr>\n",
       "  </tbody>\n",
       "</table>\n",
       "</div>"
      ],
      "text/plain": [
       "        Ship Mode    Segment        Country             City       State  \\\n",
       "0    Second Class   Consumer  United States        Henderson    Kentucky   \n",
       "1    Second Class   Consumer  United States        Henderson    Kentucky   \n",
       "2    Second Class  Corporate  United States      Los Angeles  California   \n",
       "3  Standard Class   Consumer  United States  Fort Lauderdale     Florida   \n",
       "4  Standard Class   Consumer  United States  Fort Lauderdale     Florida   \n",
       "\n",
       "   Postal Code Region         Category Sub-Category     Sales  Quantity  \\\n",
       "0        42420  South        Furniture    Bookcases  261.9600         2   \n",
       "1        42420  South        Furniture       Chairs  731.9400         3   \n",
       "2        90036   West  Office Supplies       Labels   14.6200         2   \n",
       "3        33311  South        Furniture       Tables  957.5775         5   \n",
       "4        33311  South  Office Supplies      Storage   22.3680         2   \n",
       "\n",
       "   Discount    Profit  \n",
       "0      0.00   41.9136  \n",
       "1      0.00  219.5820  \n",
       "2      0.00    6.8714  \n",
       "3      0.45 -383.0310  \n",
       "4      0.20    2.5164  "
      ]
     },
     "execution_count": 4,
     "metadata": {},
     "output_type": "execute_result"
    }
   ],
   "source": [
    "store=pd.read_csv(r\"C:\\Users\\Veer Kumar\\Downloads\\SampleSuperstore.csv\")\n",
    "store.head()"
   ]
  },
  {
   "cell_type": "code",
   "execution_count": 5,
   "metadata": {},
   "outputs": [
    {
     "data": {
      "text/plain": [
       "(9994, 13)"
      ]
     },
     "execution_count": 5,
     "metadata": {},
     "output_type": "execute_result"
    }
   ],
   "source": [
    "\n",
    "\n",
    "store.shape"
   ]
  },
  {
   "cell_type": "code",
   "execution_count": 6,
   "metadata": {},
   "outputs": [
    {
     "data": {
      "text/html": [
       "<div>\n",
       "<style scoped>\n",
       "    .dataframe tbody tr th:only-of-type {\n",
       "        vertical-align: middle;\n",
       "    }\n",
       "\n",
       "    .dataframe tbody tr th {\n",
       "        vertical-align: top;\n",
       "    }\n",
       "\n",
       "    .dataframe thead th {\n",
       "        text-align: right;\n",
       "    }\n",
       "</style>\n",
       "<table border=\"1\" class=\"dataframe\">\n",
       "  <thead>\n",
       "    <tr style=\"text-align: right;\">\n",
       "      <th></th>\n",
       "      <th>Postal Code</th>\n",
       "      <th>Sales</th>\n",
       "      <th>Quantity</th>\n",
       "      <th>Discount</th>\n",
       "      <th>Profit</th>\n",
       "    </tr>\n",
       "  </thead>\n",
       "  <tbody>\n",
       "    <tr>\n",
       "      <th>count</th>\n",
       "      <td>9994.000000</td>\n",
       "      <td>9994.000000</td>\n",
       "      <td>9994.000000</td>\n",
       "      <td>9994.000000</td>\n",
       "      <td>9994.000000</td>\n",
       "    </tr>\n",
       "    <tr>\n",
       "      <th>mean</th>\n",
       "      <td>55190.379428</td>\n",
       "      <td>229.858001</td>\n",
       "      <td>3.789574</td>\n",
       "      <td>0.156203</td>\n",
       "      <td>28.656896</td>\n",
       "    </tr>\n",
       "    <tr>\n",
       "      <th>std</th>\n",
       "      <td>32063.693350</td>\n",
       "      <td>623.245101</td>\n",
       "      <td>2.225110</td>\n",
       "      <td>0.206452</td>\n",
       "      <td>234.260108</td>\n",
       "    </tr>\n",
       "    <tr>\n",
       "      <th>min</th>\n",
       "      <td>1040.000000</td>\n",
       "      <td>0.444000</td>\n",
       "      <td>1.000000</td>\n",
       "      <td>0.000000</td>\n",
       "      <td>-6599.978000</td>\n",
       "    </tr>\n",
       "    <tr>\n",
       "      <th>25%</th>\n",
       "      <td>23223.000000</td>\n",
       "      <td>17.280000</td>\n",
       "      <td>2.000000</td>\n",
       "      <td>0.000000</td>\n",
       "      <td>1.728750</td>\n",
       "    </tr>\n",
       "    <tr>\n",
       "      <th>50%</th>\n",
       "      <td>56430.500000</td>\n",
       "      <td>54.490000</td>\n",
       "      <td>3.000000</td>\n",
       "      <td>0.200000</td>\n",
       "      <td>8.666500</td>\n",
       "    </tr>\n",
       "    <tr>\n",
       "      <th>75%</th>\n",
       "      <td>90008.000000</td>\n",
       "      <td>209.940000</td>\n",
       "      <td>5.000000</td>\n",
       "      <td>0.200000</td>\n",
       "      <td>29.364000</td>\n",
       "    </tr>\n",
       "    <tr>\n",
       "      <th>max</th>\n",
       "      <td>99301.000000</td>\n",
       "      <td>22638.480000</td>\n",
       "      <td>14.000000</td>\n",
       "      <td>0.800000</td>\n",
       "      <td>8399.976000</td>\n",
       "    </tr>\n",
       "  </tbody>\n",
       "</table>\n",
       "</div>"
      ],
      "text/plain": [
       "        Postal Code         Sales     Quantity     Discount       Profit\n",
       "count   9994.000000   9994.000000  9994.000000  9994.000000  9994.000000\n",
       "mean   55190.379428    229.858001     3.789574     0.156203    28.656896\n",
       "std    32063.693350    623.245101     2.225110     0.206452   234.260108\n",
       "min     1040.000000      0.444000     1.000000     0.000000 -6599.978000\n",
       "25%    23223.000000     17.280000     2.000000     0.000000     1.728750\n",
       "50%    56430.500000     54.490000     3.000000     0.200000     8.666500\n",
       "75%    90008.000000    209.940000     5.000000     0.200000    29.364000\n",
       "max    99301.000000  22638.480000    14.000000     0.800000  8399.976000"
      ]
     },
     "execution_count": 6,
     "metadata": {},
     "output_type": "execute_result"
    }
   ],
   "source": [
    "store.describe()"
   ]
  },
  {
   "cell_type": "markdown",
   "metadata": {},
   "source": [
    "# Exploring Dataset"
   ]
  },
  {
   "cell_type": "code",
   "execution_count": 7,
   "metadata": {},
   "outputs": [
    {
     "data": {
      "text/plain": [
       "Index(['Ship Mode', 'Segment', 'Country', 'City', 'State', 'Postal Code',\n",
       "       'Region', 'Category', 'Sub-Category', 'Sales', 'Quantity', 'Discount',\n",
       "       'Profit'],\n",
       "      dtype='object')"
      ]
     },
     "execution_count": 7,
     "metadata": {},
     "output_type": "execute_result"
    }
   ],
   "source": [
    "store.columns"
   ]
  },
  {
   "cell_type": "code",
   "execution_count": 8,
   "metadata": {},
   "outputs": [
    {
     "name": "stdout",
     "output_type": "stream",
     "text": [
      "<class 'pandas.core.frame.DataFrame'>\n",
      "RangeIndex: 9994 entries, 0 to 9993\n",
      "Data columns (total 13 columns):\n",
      " #   Column        Non-Null Count  Dtype  \n",
      "---  ------        --------------  -----  \n",
      " 0   Ship Mode     9994 non-null   object \n",
      " 1   Segment       9994 non-null   object \n",
      " 2   Country       9994 non-null   object \n",
      " 3   City          9994 non-null   object \n",
      " 4   State         9994 non-null   object \n",
      " 5   Postal Code   9994 non-null   int64  \n",
      " 6   Region        9994 non-null   object \n",
      " 7   Category      9994 non-null   object \n",
      " 8   Sub-Category  9994 non-null   object \n",
      " 9   Sales         9994 non-null   float64\n",
      " 10  Quantity      9994 non-null   int64  \n",
      " 11  Discount      9994 non-null   float64\n",
      " 12  Profit        9994 non-null   float64\n",
      "dtypes: float64(3), int64(2), object(8)\n",
      "memory usage: 702.8+ KB\n"
     ]
    }
   ],
   "source": [
    "store.info()"
   ]
  },
  {
   "cell_type": "code",
   "execution_count": 9,
   "metadata": {},
   "outputs": [
    {
     "data": {
      "text/plain": [
       "Ship Mode       0\n",
       "Segment         0\n",
       "Country         0\n",
       "City            0\n",
       "State           0\n",
       "Postal Code     0\n",
       "Region          0\n",
       "Category        0\n",
       "Sub-Category    0\n",
       "Sales           0\n",
       "Quantity        0\n",
       "Discount        0\n",
       "Profit          0\n",
       "dtype: int64"
      ]
     },
     "execution_count": 9,
     "metadata": {},
     "output_type": "execute_result"
    }
   ],
   "source": [
    "store.isnull().sum()"
   ]
  },
  {
   "cell_type": "code",
   "execution_count": 10,
   "metadata": {},
   "outputs": [
    {
     "data": {
      "text/plain": [
       "9994"
      ]
     },
     "execution_count": 10,
     "metadata": {},
     "output_type": "execute_result"
    }
   ],
   "source": [
    "total=int(store['Country'].value_counts())\n",
    "total\n"
   ]
  },
  {
   "cell_type": "code",
   "execution_count": 11,
   "metadata": {},
   "outputs": [],
   "source": [
    "#calculating our cost price\n",
    "store['Cost']=store['Sales']-store['Profit']\n",
    "\n",
    "#Calculating profit percentage\n",
    "store['Profit%']=(store['Profit']/store['Cost'])*100"
   ]
  },
  {
   "cell_type": "code",
   "execution_count": 12,
   "metadata": {},
   "outputs": [
    {
     "data": {
      "text/html": [
       "<div>\n",
       "<style scoped>\n",
       "    .dataframe tbody tr th:only-of-type {\n",
       "        vertical-align: middle;\n",
       "    }\n",
       "\n",
       "    .dataframe tbody tr th {\n",
       "        vertical-align: top;\n",
       "    }\n",
       "\n",
       "    .dataframe thead th {\n",
       "        text-align: right;\n",
       "    }\n",
       "</style>\n",
       "<table border=\"1\" class=\"dataframe\">\n",
       "  <thead>\n",
       "    <tr style=\"text-align: right;\">\n",
       "      <th></th>\n",
       "      <th>Ship Mode</th>\n",
       "      <th>Segment</th>\n",
       "      <th>Country</th>\n",
       "      <th>City</th>\n",
       "      <th>State</th>\n",
       "      <th>Postal Code</th>\n",
       "      <th>Region</th>\n",
       "      <th>Category</th>\n",
       "      <th>Sub-Category</th>\n",
       "      <th>Sales</th>\n",
       "      <th>Quantity</th>\n",
       "      <th>Discount</th>\n",
       "      <th>Profit</th>\n",
       "      <th>Cost</th>\n",
       "      <th>Profit%</th>\n",
       "    </tr>\n",
       "  </thead>\n",
       "  <tbody>\n",
       "    <tr>\n",
       "      <th>0</th>\n",
       "      <td>Second Class</td>\n",
       "      <td>Consumer</td>\n",
       "      <td>United States</td>\n",
       "      <td>Henderson</td>\n",
       "      <td>Kentucky</td>\n",
       "      <td>42420</td>\n",
       "      <td>South</td>\n",
       "      <td>Furniture</td>\n",
       "      <td>Bookcases</td>\n",
       "      <td>261.9600</td>\n",
       "      <td>2</td>\n",
       "      <td>0.00</td>\n",
       "      <td>41.9136</td>\n",
       "      <td>220.0464</td>\n",
       "      <td>19.047619</td>\n",
       "    </tr>\n",
       "    <tr>\n",
       "      <th>1</th>\n",
       "      <td>Second Class</td>\n",
       "      <td>Consumer</td>\n",
       "      <td>United States</td>\n",
       "      <td>Henderson</td>\n",
       "      <td>Kentucky</td>\n",
       "      <td>42420</td>\n",
       "      <td>South</td>\n",
       "      <td>Furniture</td>\n",
       "      <td>Chairs</td>\n",
       "      <td>731.9400</td>\n",
       "      <td>3</td>\n",
       "      <td>0.00</td>\n",
       "      <td>219.5820</td>\n",
       "      <td>512.3580</td>\n",
       "      <td>42.857143</td>\n",
       "    </tr>\n",
       "    <tr>\n",
       "      <th>2</th>\n",
       "      <td>Second Class</td>\n",
       "      <td>Corporate</td>\n",
       "      <td>United States</td>\n",
       "      <td>Los Angeles</td>\n",
       "      <td>California</td>\n",
       "      <td>90036</td>\n",
       "      <td>West</td>\n",
       "      <td>Office Supplies</td>\n",
       "      <td>Labels</td>\n",
       "      <td>14.6200</td>\n",
       "      <td>2</td>\n",
       "      <td>0.00</td>\n",
       "      <td>6.8714</td>\n",
       "      <td>7.7486</td>\n",
       "      <td>88.679245</td>\n",
       "    </tr>\n",
       "    <tr>\n",
       "      <th>3</th>\n",
       "      <td>Standard Class</td>\n",
       "      <td>Consumer</td>\n",
       "      <td>United States</td>\n",
       "      <td>Fort Lauderdale</td>\n",
       "      <td>Florida</td>\n",
       "      <td>33311</td>\n",
       "      <td>South</td>\n",
       "      <td>Furniture</td>\n",
       "      <td>Tables</td>\n",
       "      <td>957.5775</td>\n",
       "      <td>5</td>\n",
       "      <td>0.45</td>\n",
       "      <td>-383.0310</td>\n",
       "      <td>1340.6085</td>\n",
       "      <td>-28.571429</td>\n",
       "    </tr>\n",
       "    <tr>\n",
       "      <th>4</th>\n",
       "      <td>Standard Class</td>\n",
       "      <td>Consumer</td>\n",
       "      <td>United States</td>\n",
       "      <td>Fort Lauderdale</td>\n",
       "      <td>Florida</td>\n",
       "      <td>33311</td>\n",
       "      <td>South</td>\n",
       "      <td>Office Supplies</td>\n",
       "      <td>Storage</td>\n",
       "      <td>22.3680</td>\n",
       "      <td>2</td>\n",
       "      <td>0.20</td>\n",
       "      <td>2.5164</td>\n",
       "      <td>19.8516</td>\n",
       "      <td>12.676056</td>\n",
       "    </tr>\n",
       "    <tr>\n",
       "      <th>...</th>\n",
       "      <td>...</td>\n",
       "      <td>...</td>\n",
       "      <td>...</td>\n",
       "      <td>...</td>\n",
       "      <td>...</td>\n",
       "      <td>...</td>\n",
       "      <td>...</td>\n",
       "      <td>...</td>\n",
       "      <td>...</td>\n",
       "      <td>...</td>\n",
       "      <td>...</td>\n",
       "      <td>...</td>\n",
       "      <td>...</td>\n",
       "      <td>...</td>\n",
       "      <td>...</td>\n",
       "    </tr>\n",
       "    <tr>\n",
       "      <th>95</th>\n",
       "      <td>Standard Class</td>\n",
       "      <td>Home Office</td>\n",
       "      <td>United States</td>\n",
       "      <td>Portland</td>\n",
       "      <td>Oregon</td>\n",
       "      <td>97206</td>\n",
       "      <td>West</td>\n",
       "      <td>Office Supplies</td>\n",
       "      <td>Binders</td>\n",
       "      <td>5.6820</td>\n",
       "      <td>1</td>\n",
       "      <td>0.70</td>\n",
       "      <td>-3.7880</td>\n",
       "      <td>9.4700</td>\n",
       "      <td>-40.000000</td>\n",
       "    </tr>\n",
       "    <tr>\n",
       "      <th>96</th>\n",
       "      <td>Second Class</td>\n",
       "      <td>Home Office</td>\n",
       "      <td>United States</td>\n",
       "      <td>New York City</td>\n",
       "      <td>New York</td>\n",
       "      <td>10009</td>\n",
       "      <td>East</td>\n",
       "      <td>Furniture</td>\n",
       "      <td>Furnishings</td>\n",
       "      <td>96.5300</td>\n",
       "      <td>7</td>\n",
       "      <td>0.00</td>\n",
       "      <td>40.5426</td>\n",
       "      <td>55.9874</td>\n",
       "      <td>72.413793</td>\n",
       "    </tr>\n",
       "    <tr>\n",
       "      <th>97</th>\n",
       "      <td>First Class</td>\n",
       "      <td>Consumer</td>\n",
       "      <td>United States</td>\n",
       "      <td>San Francisco</td>\n",
       "      <td>California</td>\n",
       "      <td>94122</td>\n",
       "      <td>West</td>\n",
       "      <td>Office Supplies</td>\n",
       "      <td>Binders</td>\n",
       "      <td>51.3120</td>\n",
       "      <td>3</td>\n",
       "      <td>0.20</td>\n",
       "      <td>17.9592</td>\n",
       "      <td>33.3528</td>\n",
       "      <td>53.846154</td>\n",
       "    </tr>\n",
       "    <tr>\n",
       "      <th>98</th>\n",
       "      <td>Standard Class</td>\n",
       "      <td>Corporate</td>\n",
       "      <td>United States</td>\n",
       "      <td>Saint Paul</td>\n",
       "      <td>Minnesota</td>\n",
       "      <td>55106</td>\n",
       "      <td>Central</td>\n",
       "      <td>Office Supplies</td>\n",
       "      <td>Appliances</td>\n",
       "      <td>77.8800</td>\n",
       "      <td>6</td>\n",
       "      <td>0.00</td>\n",
       "      <td>22.5852</td>\n",
       "      <td>55.2948</td>\n",
       "      <td>40.845070</td>\n",
       "    </tr>\n",
       "    <tr>\n",
       "      <th>99</th>\n",
       "      <td>Standard Class</td>\n",
       "      <td>Home Office</td>\n",
       "      <td>United States</td>\n",
       "      <td>Chicago</td>\n",
       "      <td>Illinois</td>\n",
       "      <td>60610</td>\n",
       "      <td>Central</td>\n",
       "      <td>Office Supplies</td>\n",
       "      <td>Paper</td>\n",
       "      <td>64.6240</td>\n",
       "      <td>7</td>\n",
       "      <td>0.20</td>\n",
       "      <td>22.6184</td>\n",
       "      <td>42.0056</td>\n",
       "      <td>53.846154</td>\n",
       "    </tr>\n",
       "  </tbody>\n",
       "</table>\n",
       "<p>100 rows × 15 columns</p>\n",
       "</div>"
      ],
      "text/plain": [
       "         Ship Mode      Segment        Country             City       State  \\\n",
       "0     Second Class     Consumer  United States        Henderson    Kentucky   \n",
       "1     Second Class     Consumer  United States        Henderson    Kentucky   \n",
       "2     Second Class    Corporate  United States      Los Angeles  California   \n",
       "3   Standard Class     Consumer  United States  Fort Lauderdale     Florida   \n",
       "4   Standard Class     Consumer  United States  Fort Lauderdale     Florida   \n",
       "..             ...          ...            ...              ...         ...   \n",
       "95  Standard Class  Home Office  United States         Portland      Oregon   \n",
       "96    Second Class  Home Office  United States    New York City    New York   \n",
       "97     First Class     Consumer  United States    San Francisco  California   \n",
       "98  Standard Class    Corporate  United States       Saint Paul   Minnesota   \n",
       "99  Standard Class  Home Office  United States          Chicago    Illinois   \n",
       "\n",
       "    Postal Code   Region         Category Sub-Category     Sales  Quantity  \\\n",
       "0         42420    South        Furniture    Bookcases  261.9600         2   \n",
       "1         42420    South        Furniture       Chairs  731.9400         3   \n",
       "2         90036     West  Office Supplies       Labels   14.6200         2   \n",
       "3         33311    South        Furniture       Tables  957.5775         5   \n",
       "4         33311    South  Office Supplies      Storage   22.3680         2   \n",
       "..          ...      ...              ...          ...       ...       ...   \n",
       "95        97206     West  Office Supplies      Binders    5.6820         1   \n",
       "96        10009     East        Furniture  Furnishings   96.5300         7   \n",
       "97        94122     West  Office Supplies      Binders   51.3120         3   \n",
       "98        55106  Central  Office Supplies   Appliances   77.8800         6   \n",
       "99        60610  Central  Office Supplies        Paper   64.6240         7   \n",
       "\n",
       "    Discount    Profit       Cost    Profit%  \n",
       "0       0.00   41.9136   220.0464  19.047619  \n",
       "1       0.00  219.5820   512.3580  42.857143  \n",
       "2       0.00    6.8714     7.7486  88.679245  \n",
       "3       0.45 -383.0310  1340.6085 -28.571429  \n",
       "4       0.20    2.5164    19.8516  12.676056  \n",
       "..       ...       ...        ...        ...  \n",
       "95      0.70   -3.7880     9.4700 -40.000000  \n",
       "96      0.00   40.5426    55.9874  72.413793  \n",
       "97      0.20   17.9592    33.3528  53.846154  \n",
       "98      0.00   22.5852    55.2948  40.845070  \n",
       "99      0.20   22.6184    42.0056  53.846154  \n",
       "\n",
       "[100 rows x 15 columns]"
      ]
     },
     "execution_count": 12,
     "metadata": {},
     "output_type": "execute_result"
    }
   ],
   "source": [
    "store.head(100)"
   ]
  },
  {
   "cell_type": "code",
   "execution_count": 13,
   "metadata": {},
   "outputs": [
    {
     "data": {
      "text/plain": [
       "Text(0.5, 1.0, 'Correlation between the variables')"
      ]
     },
     "execution_count": 13,
     "metadata": {},
     "output_type": "execute_result"
    },
    {
     "data": {
      "image/png": "[encoded data removed]",
      "text/plain": [
       "<Figure size 432x288 with 2 Axes>"
      ]
     },
     "metadata": {
      "needs_background": "light"
     },
     "output_type": "display_data"
    }
   ],
   "source": [
    "#correlation matrix and the heatmap\n",
    "store_correlation=store.corr()\n",
    "sns.heatmap(store_correlation,annot=True,cmap='magma')\n",
    "plt.title('Correlation between the variables')"
   ]
  },
  {
   "cell_type": "markdown",
   "metadata": {},
   "source": [
    "*Conclusions drawn:*\n",
    "- Sales and Profits are Modaretely Correlated\n",
    "- Quantity and Profit are Moderately Correlated\n",
    "- Discount and Profit are Negatively Correlated"
   ]
  },
  {
   "cell_type": "code",
   "execution_count": 14,
   "metadata": {},
   "outputs": [
    {
     "name": "stdout",
     "output_type": "stream",
     "text": [
      "First Class\n",
      "Same Day\n",
      "Second Class\n",
      "Standard Class\n"
     ]
    }
   ],
   "source": [
    "shipmode=store.groupby('Ship Mode').groups\n",
    "\n",
    "for i in shipmode:\n",
    "    print(i)\n",
    "\n",
    "\n",
    "\n"
   ]
  },
  {
   "cell_type": "code",
   "execution_count": 15,
   "metadata": {},
   "outputs": [
    {
     "data": {
      "image/png": "[encoded data removed]",
      "text/plain": [
       "<Figure size 432x288 with 1 Axes>"
      ]
     },
     "metadata": {
      "needs_background": "light"
     },
     "output_type": "display_data"
    }
   ],
   "source": [
    "store['Ship Mode'].value_counts()\n",
    "plt.hist(store['Ship Mode'])\n",
    "plt.title('Ship mode preference')\n",
    "plt.show()"
   ]
  },
  {
   "cell_type": "code",
   "execution_count": 16,
   "metadata": {
    "scrolled": true
   },
   "outputs": [
    {
     "name": "stdout",
     "output_type": "stream",
     "text": [
      "Furniture\n",
      "Office Supplies\n",
      "Technology\n"
     ]
    },
    {
     "data": {
      "image/png": "[encoded data removed]",
      "text/plain": [
       "<Figure size 432x288 with 1 Axes>"
      ]
     },
     "metadata": {
      "needs_background": "light"
     },
     "output_type": "display_data"
    }
   ],
   "source": [
    "category=store.groupby('Category').groups\n",
    "for i in category:\n",
    "    print(i)\n",
    "plt.hist(store['Category'])\n",
    "plt.title('popular categories')\n",
    "plt.show()\n"
   ]
  },
  {
   "cell_type": "code",
   "execution_count": 17,
   "metadata": {},
   "outputs": [
    {
     "name": "stderr",
     "output_type": "stream",
     "text": [
      "<ipython-input-17-733b1a001075>:2: FutureWarning: Indexing with multiple keys (implicitly converted to a tuple of keys) will be deprecated, use a list instead.\n",
      "  store.groupby('Category')['Profit','Sales'].agg(['sum']).plot.bar()\n"
     ]
    },
    {
     "data": {
      "text/plain": [
       "<Figure size 720x1152 with 0 Axes>"
      ]
     },
     "metadata": {},
     "output_type": "display_data"
    },
    {
     "data": {
      "image/png": "[encoded data removed]",
      "text/plain": [
       "<Figure size 432x288 with 1 Axes>"
      ]
     },
     "metadata": {
      "needs_background": "light"
     },
     "output_type": "display_data"
    }
   ],
   "source": [
    "plt.figure(figsize= (10,16))\n",
    "store.groupby('Category')['Profit','Sales'].agg(['sum']).plot.bar()\n",
    "plt.show()"
   ]
  },
  {
   "cell_type": "code",
   "execution_count": 19,
   "metadata": {
    "scrolled": true
   },
   "outputs": [
    {
     "data": {
      "text/plain": [
       "Text(0.5, 1.0, 'Region-wise products ordered')"
      ]
     },
     "execution_count": 19,
     "metadata": {},
     "output_type": "execute_result"
    },
    {
     "data": {
      "image/png": "[encoded data removed]",
      "text/plain": [
       "<Figure size 432x288 with 1 Axes>"
      ]
     },
     "metadata": {
      "needs_background": "light"
     },
     "output_type": "display_data"
    }
   ],
   "source": [
    "sns.countplot(x=store['Region'],hue=store['Category'])\n",
    "plt.title('Region-wise products ordered')"
   ]
  },
  {
   "cell_type": "code",
   "execution_count": 48,
   "metadata": {},
   "outputs": [
    {
     "name": "stderr",
     "output_type": "stream",
     "text": [
      "c:\\python38\\lib\\site-packages\\seaborn\\_decorators.py:36: FutureWarning: Pass the following variable as a keyword arg: x. From version 0.12, the only valid positional argument will be `data`, and passing other arguments without an explicit keyword will result in an error or misinterpretation.\n",
      "  warnings.warn(\n"
     ]
    },
    {
     "ename": "ValueError",
     "evalue": "Could not interpret input 'Sub-Category'",
     "output_type": "error",
     "traceback": [
      "\u001b[1;31m---------------------------------------------------------------------------\u001b[0m",
      "\u001b[1;31mValueError\u001b[0m                                Traceback (most recent call last)",
      "\u001b[1;32m<ipython-input-48-564784e4e3a8>\u001b[0m in \u001b[0;36m<module>\u001b[1;34m\u001b[0m\n\u001b[0;32m      1\u001b[0m \u001b[0mfig\u001b[0m \u001b[1;33m=\u001b[0m \u001b[0mplt\u001b[0m\u001b[1;33m.\u001b[0m\u001b[0mfigure\u001b[0m\u001b[1;33m(\u001b[0m\u001b[0mfigsize\u001b[0m\u001b[1;33m=\u001b[0m\u001b[1;33m(\u001b[0m\u001b[1;36m18\u001b[0m\u001b[1;33m,\u001b[0m\u001b[1;36m5\u001b[0m\u001b[1;33m)\u001b[0m\u001b[1;33m)\u001b[0m\u001b[1;33m\u001b[0m\u001b[1;33m\u001b[0m\u001b[0m\n\u001b[0;32m      2\u001b[0m \u001b[0maxes\u001b[0m \u001b[1;33m=\u001b[0m \u001b[0mfig\u001b[0m\u001b[1;33m.\u001b[0m\u001b[0madd_subplot\u001b[0m\u001b[1;33m(\u001b[0m\u001b[1;36m111\u001b[0m\u001b[1;33m)\u001b[0m\u001b[1;33m\u001b[0m\u001b[1;33m\u001b[0m\u001b[0m\n\u001b[1;32m----> 3\u001b[1;33m \u001b[0ms\u001b[0m \u001b[1;33m=\u001b[0m \u001b[0msns\u001b[0m\u001b[1;33m.\u001b[0m\u001b[0mcountplot\u001b[0m\u001b[1;33m(\u001b[0m\u001b[1;34m'Sub-Category'\u001b[0m\u001b[1;33m,\u001b[0m \u001b[0mdata\u001b[0m \u001b[1;33m=\u001b[0m\u001b[0mdata_subcategory\u001b[0m\u001b[1;33m)\u001b[0m\u001b[1;33m\u001b[0m\u001b[1;33m\u001b[0m\u001b[0m\n\u001b[0m\u001b[0;32m      4\u001b[0m \u001b[1;32mfor\u001b[0m \u001b[0ms\u001b[0m \u001b[1;32min\u001b[0m \u001b[0maxes\u001b[0m\u001b[1;33m.\u001b[0m\u001b[0mpatches\u001b[0m\u001b[1;33m:\u001b[0m\u001b[1;33m\u001b[0m\u001b[1;33m\u001b[0m\u001b[0m\n\u001b[0;32m      5\u001b[0m     \u001b[0maxes\u001b[0m\u001b[1;33m.\u001b[0m\u001b[0mannotate\u001b[0m\u001b[1;33m(\u001b[0m\u001b[1;34m'{:.0f}'\u001b[0m\u001b[1;33m.\u001b[0m\u001b[0mformat\u001b[0m\u001b[1;33m(\u001b[0m\u001b[0ms\u001b[0m\u001b[1;33m.\u001b[0m\u001b[0mget_height\u001b[0m\u001b[1;33m(\u001b[0m\u001b[1;33m)\u001b[0m\u001b[1;33m)\u001b[0m\u001b[1;33m,\u001b[0m \u001b[1;33m(\u001b[0m\u001b[0ms\u001b[0m\u001b[1;33m.\u001b[0m\u001b[0mget_x\u001b[0m\u001b[1;33m(\u001b[0m\u001b[1;33m)\u001b[0m\u001b[1;33m+\u001b[0m\u001b[1;36m0.15\u001b[0m\u001b[1;33m,\u001b[0m \u001b[0ms\u001b[0m\u001b[1;33m.\u001b[0m\u001b[0mget_height\u001b[0m\u001b[1;33m(\u001b[0m\u001b[1;33m)\u001b[0m\u001b[1;33m+\u001b[0m\u001b[1;36m15\u001b[0m\u001b[1;33m)\u001b[0m\u001b[1;33m)\u001b[0m \u001b[1;31m#position arguements\u001b[0m\u001b[1;33m\u001b[0m\u001b[1;33m\u001b[0m\u001b[0m\n",
      "\u001b[1;32mc:\\python38\\lib\\site-packages\\seaborn\\_decorators.py\u001b[0m in \u001b[0;36minner_f\u001b[1;34m(*args, **kwargs)\u001b[0m\n\u001b[0;32m     44\u001b[0m             )\n\u001b[0;32m     45\u001b[0m         \u001b[0mkwargs\u001b[0m\u001b[1;33m.\u001b[0m\u001b[0mupdate\u001b[0m\u001b[1;33m(\u001b[0m\u001b[1;33m{\u001b[0m\u001b[0mk\u001b[0m\u001b[1;33m:\u001b[0m \u001b[0marg\u001b[0m \u001b[1;32mfor\u001b[0m \u001b[0mk\u001b[0m\u001b[1;33m,\u001b[0m \u001b[0marg\u001b[0m \u001b[1;32min\u001b[0m \u001b[0mzip\u001b[0m\u001b[1;33m(\u001b[0m\u001b[0msig\u001b[0m\u001b[1;33m.\u001b[0m\u001b[0mparameters\u001b[0m\u001b[1;33m,\u001b[0m \u001b[0margs\u001b[0m\u001b[1;33m)\u001b[0m\u001b[1;33m}\u001b[0m\u001b[1;33m)\u001b[0m\u001b[1;33m\u001b[0m\u001b[1;33m\u001b[0m\u001b[0m\n\u001b[1;32m---> 46\u001b[1;33m         \u001b[1;32mreturn\u001b[0m \u001b[0mf\u001b[0m\u001b[1;33m(\u001b[0m\u001b[1;33m**\u001b[0m\u001b[0mkwargs\u001b[0m\u001b[1;33m)\u001b[0m\u001b[1;33m\u001b[0m\u001b[1;33m\u001b[0m\u001b[0m\n\u001b[0m\u001b[0;32m     47\u001b[0m     \u001b[1;32mreturn\u001b[0m \u001b[0minner_f\u001b[0m\u001b[1;33m\u001b[0m\u001b[1;33m\u001b[0m\u001b[0m\n\u001b[0;32m     48\u001b[0m \u001b[1;33m\u001b[0m\u001b[0m\n",
      "\u001b[1;32mc:\\python38\\lib\\site-packages\\seaborn\\categorical.py\u001b[0m in \u001b[0;36mcountplot\u001b[1;34m(x, y, hue, data, order, hue_order, orient, color, palette, saturation, dodge, ax, **kwargs)\u001b[0m\n\u001b[0;32m   3593\u001b[0m         \u001b[1;32mraise\u001b[0m \u001b[0mValueError\u001b[0m\u001b[1;33m(\u001b[0m\u001b[1;34m\"Cannot pass values for both `x` and `y`\"\u001b[0m\u001b[1;33m)\u001b[0m\u001b[1;33m\u001b[0m\u001b[1;33m\u001b[0m\u001b[0m\n\u001b[0;32m   3594\u001b[0m \u001b[1;33m\u001b[0m\u001b[0m\n\u001b[1;32m-> 3595\u001b[1;33m     plotter = _CountPlotter(\n\u001b[0m\u001b[0;32m   3596\u001b[0m         \u001b[0mx\u001b[0m\u001b[1;33m,\u001b[0m \u001b[0my\u001b[0m\u001b[1;33m,\u001b[0m \u001b[0mhue\u001b[0m\u001b[1;33m,\u001b[0m \u001b[0mdata\u001b[0m\u001b[1;33m,\u001b[0m \u001b[0morder\u001b[0m\u001b[1;33m,\u001b[0m \u001b[0mhue_order\u001b[0m\u001b[1;33m,\u001b[0m\u001b[1;33m\u001b[0m\u001b[1;33m\u001b[0m\u001b[0m\n\u001b[0;32m   3597\u001b[0m         \u001b[0mestimator\u001b[0m\u001b[1;33m,\u001b[0m \u001b[0mci\u001b[0m\u001b[1;33m,\u001b[0m \u001b[0mn_boot\u001b[0m\u001b[1;33m,\u001b[0m \u001b[0munits\u001b[0m\u001b[1;33m,\u001b[0m \u001b[0mseed\u001b[0m\u001b[1;33m,\u001b[0m\u001b[1;33m\u001b[0m\u001b[1;33m\u001b[0m\u001b[0m\n",
      "\u001b[1;32mc:\\python38\\lib\\site-packages\\seaborn\\categorical.py\u001b[0m in \u001b[0;36m__init__\u001b[1;34m(self, x, y, hue, data, order, hue_order, estimator, ci, n_boot, units, seed, orient, color, palette, saturation, errcolor, errwidth, capsize, dodge)\u001b[0m\n\u001b[0;32m   1582\u001b[0m                  errwidth, capsize, dodge):\n\u001b[0;32m   1583\u001b[0m         \u001b[1;34m\"\"\"Initialize the plotter.\"\"\"\u001b[0m\u001b[1;33m\u001b[0m\u001b[1;33m\u001b[0m\u001b[0m\n\u001b[1;32m-> 1584\u001b[1;33m         self.establish_variables(x, y, hue, data, orient,\n\u001b[0m\u001b[0;32m   1585\u001b[0m                                  order, hue_order, units)\n\u001b[0;32m   1586\u001b[0m         \u001b[0mself\u001b[0m\u001b[1;33m.\u001b[0m\u001b[0mestablish_colors\u001b[0m\u001b[1;33m(\u001b[0m\u001b[0mcolor\u001b[0m\u001b[1;33m,\u001b[0m \u001b[0mpalette\u001b[0m\u001b[1;33m,\u001b[0m \u001b[0msaturation\u001b[0m\u001b[1;33m)\u001b[0m\u001b[1;33m\u001b[0m\u001b[1;33m\u001b[0m\u001b[0m\n",
      "\u001b[1;32mc:\\python38\\lib\\site-packages\\seaborn\\categorical.py\u001b[0m in \u001b[0;36mestablish_variables\u001b[1;34m(self, x, y, hue, data, orient, order, hue_order, units)\u001b[0m\n\u001b[0;32m    151\u001b[0m                 \u001b[1;32mif\u001b[0m \u001b[0misinstance\u001b[0m\u001b[1;33m(\u001b[0m\u001b[0mvar\u001b[0m\u001b[1;33m,\u001b[0m \u001b[0mstr\u001b[0m\u001b[1;33m)\u001b[0m\u001b[1;33m:\u001b[0m\u001b[1;33m\u001b[0m\u001b[1;33m\u001b[0m\u001b[0m\n\u001b[0;32m    152\u001b[0m                     \u001b[0merr\u001b[0m \u001b[1;33m=\u001b[0m \u001b[1;34m\"Could not interpret input '{}'\"\u001b[0m\u001b[1;33m.\u001b[0m\u001b[0mformat\u001b[0m\u001b[1;33m(\u001b[0m\u001b[0mvar\u001b[0m\u001b[1;33m)\u001b[0m\u001b[1;33m\u001b[0m\u001b[1;33m\u001b[0m\u001b[0m\n\u001b[1;32m--> 153\u001b[1;33m                     \u001b[1;32mraise\u001b[0m \u001b[0mValueError\u001b[0m\u001b[1;33m(\u001b[0m\u001b[0merr\u001b[0m\u001b[1;33m)\u001b[0m\u001b[1;33m\u001b[0m\u001b[1;33m\u001b[0m\u001b[0m\n\u001b[0m\u001b[0;32m    154\u001b[0m \u001b[1;33m\u001b[0m\u001b[0m\n\u001b[0;32m    155\u001b[0m             \u001b[1;31m# Figure out the plotting orientation\u001b[0m\u001b[1;33m\u001b[0m\u001b[1;33m\u001b[0m\u001b[1;33m\u001b[0m\u001b[0m\n",
      "\u001b[1;31mValueError\u001b[0m: Could not interpret input 'Sub-Category'"
     ]
    },
    {
     "data": {
      "image/png": "[encoded data removed]",
      "text/plain": [
       "<Figure size 1296x360 with 1 Axes>"
      ]
     },
     "metadata": {
      "needs_background": "light"
     },
     "output_type": "display_data"
    }
   ],
   "source": [
    "fig = plt.figure(figsize=(18,5))\n",
    "axes = fig.add_subplot(111)\n",
    "s = sns.countplot('Sub-Category', data =data_subcategory)\n",
    "for s in axes.patches:\n",
    "    axes.annotate('{:.0f}'.format(s.get_height()), (s.get_x()+0.15, s.get_height()+15)) #position arguements\n",
    "plt.grid(color='gray', linestyle='--', linewidth=0.3)\n",
    "plt.title(\"Sub-Category Counts\", fontsize=15)\n",
    "plt.show()"
   ]
  },
  {
   "cell_type": "code",
   "execution_count": 45,
   "metadata": {},
   "outputs": [
    {
     "data": {
      "text/plain": [
       "<AxesSubplot:ylabel='Sub-Category'>"
      ]
     },
     "execution_count": 45,
     "metadata": {},
     "output_type": "execute_result"
    },
    {
     "data": {
      "image/png": "[encoded data removed]",
      "text/plain": [
       "<Figure size 720x720 with 1 Axes>"
      ]
     },
     "metadata": {},
     "output_type": "display_data"
    }
   ],
   "source": [
    "plt.figure(figsize=(10,10))\n",
    "store['Sub-Category'].value_counts().plot.pie(autopct='%1.1f%%',pctdistance=0.5)\n"
   ]
  },
  {
   "cell_type": "code",
   "execution_count": 42,
   "metadata": {},
   "outputs": [
    {
     "data": {
      "image/png": "[encoded data removed]",
      "text/plain": [
       "<Figure size 1440x720 with 1 Axes>"
      ]
     },
     "metadata": {
      "needs_background": "light"
     },
     "output_type": "display_data"
    }
   ],
   "source": [
    "\n",
    "data_subcategory = store.groupby(['Sub-Category'])[['Sales', 'Discount', 'Profit']].mean()\n",
    "data_subcategory.sort_values('Profit')[['Sales','Profit']].plot(kind='bar',figsize= (20,10),label=['Avg Sales Price($)','Profit($)'])\n",
    "plt.show()"
   ]
  },
  {
   "cell_type": "code",
   "execution_count": 22,
   "metadata": {},
   "outputs": [],
   "source": [
    "city=[]\n",
    "cities=store.groupby('City')\n",
    "for i,df in cities:\n",
    "    city.append(i)\n",
    "    "
   ]
  },
  {
   "cell_type": "code",
   "execution_count": 23,
   "metadata": {},
   "outputs": [
    {
     "data": {
      "text/plain": [
       "['Aberdeen',\n",
       " 'Abilene',\n",
       " 'Akron',\n",
       " 'Albuquerque',\n",
       " 'Alexandria',\n",
       " 'Allen',\n",
       " 'Allentown',\n",
       " 'Altoona',\n",
       " 'Amarillo',\n",
       " 'Anaheim',\n",
       " 'Andover',\n",
       " 'Ann Arbor',\n",
       " 'Antioch',\n",
       " 'Apopka',\n",
       " 'Apple Valley',\n",
       " 'Appleton',\n",
       " 'Arlington',\n",
       " 'Arlington Heights',\n",
       " 'Arvada',\n",
       " 'Asheville',\n",
       " 'Athens',\n",
       " 'Atlanta',\n",
       " 'Atlantic City',\n",
       " 'Auburn',\n",
       " 'Aurora',\n",
       " 'Austin',\n",
       " 'Avondale',\n",
       " 'Bakersfield',\n",
       " 'Baltimore',\n",
       " 'Bangor',\n",
       " 'Bartlett',\n",
       " 'Bayonne',\n",
       " 'Baytown',\n",
       " 'Beaumont',\n",
       " 'Bedford',\n",
       " 'Belleville',\n",
       " 'Bellevue',\n",
       " 'Bellingham',\n",
       " 'Bethlehem',\n",
       " 'Beverly',\n",
       " 'Billings',\n",
       " 'Bloomington',\n",
       " 'Boca Raton',\n",
       " 'Boise',\n",
       " 'Bolingbrook',\n",
       " 'Bossier City',\n",
       " 'Bowling Green',\n",
       " 'Boynton Beach',\n",
       " 'Bozeman',\n",
       " 'Brentwood',\n",
       " 'Bridgeton',\n",
       " 'Bristol',\n",
       " 'Broken Arrow',\n",
       " 'Broomfield',\n",
       " 'Brownsville',\n",
       " 'Bryan',\n",
       " 'Buffalo',\n",
       " 'Buffalo Grove',\n",
       " 'Bullhead City',\n",
       " 'Burbank',\n",
       " 'Burlington',\n",
       " 'Caldwell',\n",
       " 'Camarillo',\n",
       " 'Cambridge',\n",
       " 'Canton',\n",
       " 'Carlsbad',\n",
       " 'Carol Stream',\n",
       " 'Carrollton',\n",
       " 'Cary',\n",
       " 'Cedar Hill',\n",
       " 'Cedar Rapids',\n",
       " 'Champaign',\n",
       " 'Chandler',\n",
       " 'Chapel Hill',\n",
       " 'Charlotte',\n",
       " 'Charlottesville',\n",
       " 'Chattanooga',\n",
       " 'Chesapeake',\n",
       " 'Chester',\n",
       " 'Cheyenne',\n",
       " 'Chicago',\n",
       " 'Chico',\n",
       " 'Chula Vista',\n",
       " 'Cincinnati',\n",
       " 'Citrus Heights',\n",
       " 'Clarksville',\n",
       " 'Cleveland',\n",
       " 'Clifton',\n",
       " 'Clinton',\n",
       " 'Clovis',\n",
       " 'Coachella',\n",
       " 'College Station',\n",
       " 'Colorado Springs',\n",
       " 'Columbia',\n",
       " 'Columbus',\n",
       " 'Commerce City',\n",
       " 'Concord',\n",
       " 'Conroe',\n",
       " 'Conway',\n",
       " 'Coon Rapids',\n",
       " 'Coppell',\n",
       " 'Coral Gables',\n",
       " 'Coral Springs',\n",
       " 'Corpus Christi',\n",
       " 'Costa Mesa',\n",
       " 'Cottage Grove',\n",
       " 'Covington',\n",
       " 'Cranston',\n",
       " 'Cuyahoga Falls',\n",
       " 'Dallas',\n",
       " 'Danbury',\n",
       " 'Danville',\n",
       " 'Davis',\n",
       " 'Daytona Beach',\n",
       " 'Dearborn',\n",
       " 'Dearborn Heights',\n",
       " 'Decatur',\n",
       " 'Deer Park',\n",
       " 'Delray Beach',\n",
       " 'Deltona',\n",
       " 'Denver',\n",
       " 'Des Moines',\n",
       " 'Des Plaines',\n",
       " 'Detroit',\n",
       " 'Dover',\n",
       " 'Draper',\n",
       " 'Dublin',\n",
       " 'Dubuque',\n",
       " 'Durham',\n",
       " 'Eagan',\n",
       " 'East Orange',\n",
       " 'East Point',\n",
       " 'Eau Claire',\n",
       " 'Edinburg',\n",
       " 'Edmond',\n",
       " 'Edmonds',\n",
       " 'El Cajon',\n",
       " 'El Paso',\n",
       " 'Elkhart',\n",
       " 'Elmhurst',\n",
       " 'Elyria',\n",
       " 'Encinitas',\n",
       " 'Englewood',\n",
       " 'Escondido',\n",
       " 'Eugene',\n",
       " 'Evanston',\n",
       " 'Everett',\n",
       " 'Fairfield',\n",
       " 'Fargo',\n",
       " 'Farmington',\n",
       " 'Fayetteville',\n",
       " 'Florence',\n",
       " 'Fort Collins',\n",
       " 'Fort Lauderdale',\n",
       " 'Fort Worth',\n",
       " 'Frankfort',\n",
       " 'Franklin',\n",
       " 'Freeport',\n",
       " 'Fremont',\n",
       " 'Fresno',\n",
       " 'Frisco',\n",
       " 'Gaithersburg',\n",
       " 'Garden City',\n",
       " 'Garland',\n",
       " 'Gastonia',\n",
       " 'Georgetown',\n",
       " 'Gilbert',\n",
       " 'Gladstone',\n",
       " 'Glendale',\n",
       " 'Glenview',\n",
       " 'Goldsboro',\n",
       " 'Grand Island',\n",
       " 'Grand Prairie',\n",
       " 'Grand Rapids',\n",
       " 'Grapevine',\n",
       " 'Great Falls',\n",
       " 'Greeley',\n",
       " 'Green Bay',\n",
       " 'Greensboro',\n",
       " 'Greenville',\n",
       " 'Greenwood',\n",
       " 'Gresham',\n",
       " 'Grove City',\n",
       " 'Gulfport',\n",
       " 'Hackensack',\n",
       " 'Hagerstown',\n",
       " 'Haltom City',\n",
       " 'Hamilton',\n",
       " 'Hampton',\n",
       " 'Harlingen',\n",
       " 'Harrisonburg',\n",
       " 'Hattiesburg',\n",
       " 'Helena',\n",
       " 'Hempstead',\n",
       " 'Henderson',\n",
       " 'Hendersonville',\n",
       " 'Hesperia',\n",
       " 'Hialeah',\n",
       " 'Hickory',\n",
       " 'Highland Park',\n",
       " 'Hillsboro',\n",
       " 'Holland',\n",
       " 'Hollywood',\n",
       " 'Holyoke',\n",
       " 'Homestead',\n",
       " 'Hoover',\n",
       " 'Hot Springs',\n",
       " 'Houston',\n",
       " 'Huntington Beach',\n",
       " 'Huntsville',\n",
       " 'Independence',\n",
       " 'Indianapolis',\n",
       " 'Inglewood',\n",
       " 'Iowa City',\n",
       " 'Irving',\n",
       " 'Jackson',\n",
       " 'Jacksonville',\n",
       " 'Jamestown',\n",
       " 'Jefferson City',\n",
       " 'Johnson City',\n",
       " 'Jonesboro',\n",
       " 'Jupiter',\n",
       " 'Keller',\n",
       " 'Kenner',\n",
       " 'Kenosha',\n",
       " 'Kent',\n",
       " 'Kirkwood',\n",
       " 'Kissimmee',\n",
       " 'Knoxville',\n",
       " 'La Crosse',\n",
       " 'La Mesa',\n",
       " 'La Porte',\n",
       " 'La Quinta',\n",
       " 'Lafayette',\n",
       " 'Laguna Niguel',\n",
       " 'Lake Charles',\n",
       " 'Lake Elsinore',\n",
       " 'Lake Forest',\n",
       " 'Lakeland',\n",
       " 'Lakeville',\n",
       " 'Lakewood',\n",
       " 'Lancaster',\n",
       " 'Lansing',\n",
       " 'Laredo',\n",
       " 'Las Cruces',\n",
       " 'Las Vegas',\n",
       " 'Laurel',\n",
       " 'Lawrence',\n",
       " 'Lawton',\n",
       " 'Layton',\n",
       " 'League City',\n",
       " 'Lebanon',\n",
       " 'Lehi',\n",
       " 'Leominster',\n",
       " 'Lewiston',\n",
       " 'Lincoln Park',\n",
       " 'Linden',\n",
       " 'Lindenhurst',\n",
       " 'Little Rock',\n",
       " 'Littleton',\n",
       " 'Lodi',\n",
       " 'Logan',\n",
       " 'Long Beach',\n",
       " 'Longmont',\n",
       " 'Longview',\n",
       " 'Lorain',\n",
       " 'Los Angeles',\n",
       " 'Louisville',\n",
       " 'Loveland',\n",
       " 'Lowell',\n",
       " 'Lubbock',\n",
       " 'Macon',\n",
       " 'Madison',\n",
       " 'Malden',\n",
       " 'Manchester',\n",
       " 'Manhattan',\n",
       " 'Mansfield',\n",
       " 'Manteca',\n",
       " 'Maple Grove',\n",
       " 'Margate',\n",
       " 'Marietta',\n",
       " 'Marion',\n",
       " 'Marlborough',\n",
       " 'Marysville',\n",
       " 'Mason',\n",
       " 'Mcallen',\n",
       " 'Medford',\n",
       " 'Medina',\n",
       " 'Melbourne',\n",
       " 'Memphis',\n",
       " 'Mentor',\n",
       " 'Meriden',\n",
       " 'Meridian',\n",
       " 'Mesa',\n",
       " 'Mesquite',\n",
       " 'Miami',\n",
       " 'Middletown',\n",
       " 'Midland',\n",
       " 'Milford',\n",
       " 'Milwaukee',\n",
       " 'Minneapolis',\n",
       " 'Miramar',\n",
       " 'Mishawaka',\n",
       " 'Mission Viejo',\n",
       " 'Missoula',\n",
       " 'Missouri City',\n",
       " 'Mobile',\n",
       " 'Modesto',\n",
       " 'Monroe',\n",
       " 'Montebello',\n",
       " 'Montgomery',\n",
       " 'Moorhead',\n",
       " 'Moreno Valley',\n",
       " 'Morgan Hill',\n",
       " 'Morristown',\n",
       " 'Mount Pleasant',\n",
       " 'Mount Vernon',\n",
       " 'Murfreesboro',\n",
       " 'Murray',\n",
       " 'Murrieta',\n",
       " 'Muskogee',\n",
       " 'Naperville',\n",
       " 'Nashua',\n",
       " 'Nashville',\n",
       " 'New Albany',\n",
       " 'New Bedford',\n",
       " 'New Brunswick',\n",
       " 'New Castle',\n",
       " 'New Rochelle',\n",
       " 'New York City',\n",
       " 'Newark',\n",
       " 'Newport News',\n",
       " 'Niagara Falls',\n",
       " 'Noblesville',\n",
       " 'Norfolk',\n",
       " 'Normal',\n",
       " 'Norman',\n",
       " 'North Charleston',\n",
       " 'North Las Vegas',\n",
       " 'North Miami',\n",
       " 'Norwich',\n",
       " 'Oak Park',\n",
       " 'Oakland',\n",
       " 'Oceanside',\n",
       " 'Odessa',\n",
       " 'Oklahoma City',\n",
       " 'Olathe',\n",
       " 'Olympia',\n",
       " 'Omaha',\n",
       " 'Ontario',\n",
       " 'Orange',\n",
       " 'Orem',\n",
       " 'Orland Park',\n",
       " 'Orlando',\n",
       " 'Ormond Beach',\n",
       " 'Oswego',\n",
       " 'Overland Park',\n",
       " 'Owensboro',\n",
       " 'Oxnard',\n",
       " 'Palatine',\n",
       " 'Palm Coast',\n",
       " 'Park Ridge',\n",
       " 'Parker',\n",
       " 'Parma',\n",
       " 'Pasadena',\n",
       " 'Pasco',\n",
       " 'Passaic',\n",
       " 'Paterson',\n",
       " 'Pearland',\n",
       " 'Pembroke Pines',\n",
       " 'Pensacola',\n",
       " 'Peoria',\n",
       " 'Perth Amboy',\n",
       " 'Pharr',\n",
       " 'Philadelphia',\n",
       " 'Phoenix',\n",
       " 'Pico Rivera',\n",
       " 'Pine Bluff',\n",
       " 'Plainfield',\n",
       " 'Plano',\n",
       " 'Plantation',\n",
       " 'Pleasant Grove',\n",
       " 'Pocatello',\n",
       " 'Pomona',\n",
       " 'Pompano Beach',\n",
       " 'Port Arthur',\n",
       " 'Port Orange',\n",
       " 'Port Saint Lucie',\n",
       " 'Portage',\n",
       " 'Portland',\n",
       " 'Providence',\n",
       " 'Provo',\n",
       " 'Pueblo',\n",
       " 'Quincy',\n",
       " 'Raleigh',\n",
       " 'Rancho Cucamonga',\n",
       " 'Rapid City',\n",
       " 'Reading',\n",
       " 'Redding',\n",
       " 'Redlands',\n",
       " 'Redmond',\n",
       " 'Redondo Beach',\n",
       " 'Redwood City',\n",
       " 'Reno',\n",
       " 'Renton',\n",
       " 'Revere',\n",
       " 'Richardson',\n",
       " 'Richmond',\n",
       " 'Rio Rancho',\n",
       " 'Riverside',\n",
       " 'Rochester',\n",
       " 'Rochester Hills',\n",
       " 'Rock Hill',\n",
       " 'Rockford',\n",
       " 'Rockville',\n",
       " 'Rogers',\n",
       " 'Rome',\n",
       " 'Romeoville',\n",
       " 'Roseville',\n",
       " 'Roswell',\n",
       " 'Round Rock',\n",
       " 'Royal Oak',\n",
       " 'Sacramento',\n",
       " 'Saginaw',\n",
       " 'Saint Charles',\n",
       " 'Saint Cloud',\n",
       " 'Saint Louis',\n",
       " 'Saint Paul',\n",
       " 'Saint Peters',\n",
       " 'Saint Petersburg',\n",
       " 'Salem',\n",
       " 'Salinas',\n",
       " 'Salt Lake City',\n",
       " 'San Angelo',\n",
       " 'San Antonio',\n",
       " 'San Bernardino',\n",
       " 'San Clemente',\n",
       " 'San Diego',\n",
       " 'San Francisco',\n",
       " 'San Gabriel',\n",
       " 'San Jose',\n",
       " 'San Luis Obispo',\n",
       " 'San Marcos',\n",
       " 'San Mateo',\n",
       " 'Sandy Springs',\n",
       " 'Sanford',\n",
       " 'Santa Ana',\n",
       " 'Santa Barbara',\n",
       " 'Santa Clara',\n",
       " 'Santa Fe',\n",
       " 'Santa Maria',\n",
       " 'Scottsdale',\n",
       " 'Seattle',\n",
       " 'Sheboygan',\n",
       " 'Shelton',\n",
       " 'Sierra Vista',\n",
       " 'Sioux Falls',\n",
       " 'Skokie',\n",
       " 'Smyrna',\n",
       " 'South Bend',\n",
       " 'Southaven',\n",
       " 'Sparks',\n",
       " 'Spokane',\n",
       " 'Springdale',\n",
       " 'Springfield',\n",
       " 'Sterling Heights',\n",
       " 'Stockton',\n",
       " 'Suffolk',\n",
       " 'Summerville',\n",
       " 'Sunnyvale',\n",
       " 'Superior',\n",
       " 'Tallahassee',\n",
       " 'Tamarac',\n",
       " 'Tampa',\n",
       " 'Taylor',\n",
       " 'Temecula',\n",
       " 'Tempe',\n",
       " 'Texarkana',\n",
       " 'Texas City',\n",
       " 'The Colony',\n",
       " 'Thomasville',\n",
       " 'Thornton',\n",
       " 'Thousand Oaks',\n",
       " 'Tigard',\n",
       " 'Tinley Park',\n",
       " 'Toledo',\n",
       " 'Torrance',\n",
       " 'Trenton',\n",
       " 'Troy',\n",
       " 'Tucson',\n",
       " 'Tulsa',\n",
       " 'Tuscaloosa',\n",
       " 'Twin Falls',\n",
       " 'Tyler',\n",
       " 'Urbandale',\n",
       " 'Utica',\n",
       " 'Vacaville',\n",
       " 'Vallejo',\n",
       " 'Vancouver',\n",
       " 'Vineland',\n",
       " 'Virginia Beach',\n",
       " 'Visalia',\n",
       " 'Waco',\n",
       " 'Warner Robins',\n",
       " 'Warwick',\n",
       " 'Washington',\n",
       " 'Waterbury',\n",
       " 'Waterloo',\n",
       " 'Watertown',\n",
       " 'Waukesha',\n",
       " 'Wausau',\n",
       " 'Waynesboro',\n",
       " 'West Allis',\n",
       " 'West Jordan',\n",
       " 'West Palm Beach',\n",
       " 'Westfield',\n",
       " 'Westland',\n",
       " 'Westminster',\n",
       " 'Wheeling',\n",
       " 'Whittier',\n",
       " 'Wichita',\n",
       " 'Wilmington',\n",
       " 'Wilson',\n",
       " 'Woodbury',\n",
       " 'Woodland',\n",
       " 'Woodstock',\n",
       " 'Woonsocket',\n",
       " 'Yonkers',\n",
       " 'York',\n",
       " 'Yucaipa',\n",
       " 'Yuma']"
      ]
     },
     "execution_count": 23,
     "metadata": {},
     "output_type": "execute_result"
    }
   ],
   "source": [
    "city"
   ]
  },
  {
   "cell_type": "code",
   "execution_count": 24,
   "metadata": {},
   "outputs": [
    {
     "data": {
      "text/plain": [
       "531"
      ]
     },
     "execution_count": 24,
     "metadata": {},
     "output_type": "execute_result"
    }
   ],
   "source": [
    "len(city)"
   ]
  },
  {
   "cell_type": "code",
   "execution_count": 25,
   "metadata": {},
   "outputs": [
    {
     "data": {
      "text/plain": [
       "New York City     915\n",
       "Los Angeles       747\n",
       "Philadelphia      537\n",
       "San Francisco     510\n",
       "Seattle           428\n",
       "                 ... \n",
       "Waukesha            1\n",
       "Redding             1\n",
       "Citrus Heights      1\n",
       "Romeoville          1\n",
       "Baytown             1\n",
       "Name: City, Length: 531, dtype: int64"
      ]
     },
     "execution_count": 25,
     "metadata": {},
     "output_type": "execute_result"
    }
   ],
   "source": [
    "store['City'].value_counts()"
   ]
  },
  {
   "cell_type": "code",
   "execution_count": 26,
   "metadata": {},
   "outputs": [
    {
     "data": {
      "text/plain": [
       "1"
      ]
     },
     "execution_count": 26,
     "metadata": {},
     "output_type": "execute_result"
    }
   ],
   "source": [
    "store['City'].value_counts().min()"
   ]
  },
  {
   "cell_type": "code",
   "execution_count": 27,
   "metadata": {},
   "outputs": [
    {
     "data": {
      "text/plain": [
       "915"
      ]
     },
     "execution_count": 27,
     "metadata": {},
     "output_type": "execute_result"
    }
   ],
   "source": [
    "store['City'].value_counts().max()"
   ]
  },
  {
   "cell_type": "code",
   "execution_count": 28,
   "metadata": {},
   "outputs": [
    {
     "data": {
      "text/html": [
       "<div>\n",
       "<style scoped>\n",
       "    .dataframe tbody tr th:only-of-type {\n",
       "        vertical-align: middle;\n",
       "    }\n",
       "\n",
       "    .dataframe tbody tr th {\n",
       "        vertical-align: top;\n",
       "    }\n",
       "\n",
       "    .dataframe thead th {\n",
       "        text-align: right;\n",
       "    }\n",
       "</style>\n",
       "<table border=\"1\" class=\"dataframe\">\n",
       "  <thead>\n",
       "    <tr style=\"text-align: right;\">\n",
       "      <th></th>\n",
       "      <th>Ship Mode</th>\n",
       "      <th>Segment</th>\n",
       "      <th>Country</th>\n",
       "      <th>City</th>\n",
       "      <th>State</th>\n",
       "      <th>Postal Code</th>\n",
       "      <th>Region</th>\n",
       "      <th>Category</th>\n",
       "      <th>Sub-Category</th>\n",
       "      <th>Sales</th>\n",
       "      <th>Quantity</th>\n",
       "      <th>Discount</th>\n",
       "      <th>Profit</th>\n",
       "      <th>Cost</th>\n",
       "      <th>Profit%</th>\n",
       "      <th>loss</th>\n",
       "    </tr>\n",
       "  </thead>\n",
       "  <tbody>\n",
       "    <tr>\n",
       "      <th>0</th>\n",
       "      <td>Second Class</td>\n",
       "      <td>Consumer</td>\n",
       "      <td>United States</td>\n",
       "      <td>Henderson</td>\n",
       "      <td>Kentucky</td>\n",
       "      <td>42420</td>\n",
       "      <td>South</td>\n",
       "      <td>Furniture</td>\n",
       "      <td>Bookcases</td>\n",
       "      <td>261.9600</td>\n",
       "      <td>2</td>\n",
       "      <td>0.00</td>\n",
       "      <td>41.9136</td>\n",
       "      <td>220.0464</td>\n",
       "      <td>19.047619</td>\n",
       "      <td>-41.9136</td>\n",
       "    </tr>\n",
       "    <tr>\n",
       "      <th>1</th>\n",
       "      <td>Second Class</td>\n",
       "      <td>Consumer</td>\n",
       "      <td>United States</td>\n",
       "      <td>Henderson</td>\n",
       "      <td>Kentucky</td>\n",
       "      <td>42420</td>\n",
       "      <td>South</td>\n",
       "      <td>Furniture</td>\n",
       "      <td>Chairs</td>\n",
       "      <td>731.9400</td>\n",
       "      <td>3</td>\n",
       "      <td>0.00</td>\n",
       "      <td>219.5820</td>\n",
       "      <td>512.3580</td>\n",
       "      <td>42.857143</td>\n",
       "      <td>-219.5820</td>\n",
       "    </tr>\n",
       "    <tr>\n",
       "      <th>2</th>\n",
       "      <td>Second Class</td>\n",
       "      <td>Corporate</td>\n",
       "      <td>United States</td>\n",
       "      <td>Los Angeles</td>\n",
       "      <td>California</td>\n",
       "      <td>90036</td>\n",
       "      <td>West</td>\n",
       "      <td>Office Supplies</td>\n",
       "      <td>Labels</td>\n",
       "      <td>14.6200</td>\n",
       "      <td>2</td>\n",
       "      <td>0.00</td>\n",
       "      <td>6.8714</td>\n",
       "      <td>7.7486</td>\n",
       "      <td>88.679245</td>\n",
       "      <td>-6.8714</td>\n",
       "    </tr>\n",
       "    <tr>\n",
       "      <th>3</th>\n",
       "      <td>Standard Class</td>\n",
       "      <td>Consumer</td>\n",
       "      <td>United States</td>\n",
       "      <td>Fort Lauderdale</td>\n",
       "      <td>Florida</td>\n",
       "      <td>33311</td>\n",
       "      <td>South</td>\n",
       "      <td>Furniture</td>\n",
       "      <td>Tables</td>\n",
       "      <td>957.5775</td>\n",
       "      <td>5</td>\n",
       "      <td>0.45</td>\n",
       "      <td>-383.0310</td>\n",
       "      <td>1340.6085</td>\n",
       "      <td>-28.571429</td>\n",
       "      <td>383.0310</td>\n",
       "    </tr>\n",
       "    <tr>\n",
       "      <th>4</th>\n",
       "      <td>Standard Class</td>\n",
       "      <td>Consumer</td>\n",
       "      <td>United States</td>\n",
       "      <td>Fort Lauderdale</td>\n",
       "      <td>Florida</td>\n",
       "      <td>33311</td>\n",
       "      <td>South</td>\n",
       "      <td>Office Supplies</td>\n",
       "      <td>Storage</td>\n",
       "      <td>22.3680</td>\n",
       "      <td>2</td>\n",
       "      <td>0.20</td>\n",
       "      <td>2.5164</td>\n",
       "      <td>19.8516</td>\n",
       "      <td>12.676056</td>\n",
       "      <td>-2.5164</td>\n",
       "    </tr>\n",
       "    <tr>\n",
       "      <th>...</th>\n",
       "      <td>...</td>\n",
       "      <td>...</td>\n",
       "      <td>...</td>\n",
       "      <td>...</td>\n",
       "      <td>...</td>\n",
       "      <td>...</td>\n",
       "      <td>...</td>\n",
       "      <td>...</td>\n",
       "      <td>...</td>\n",
       "      <td>...</td>\n",
       "      <td>...</td>\n",
       "      <td>...</td>\n",
       "      <td>...</td>\n",
       "      <td>...</td>\n",
       "      <td>...</td>\n",
       "      <td>...</td>\n",
       "    </tr>\n",
       "    <tr>\n",
       "      <th>495</th>\n",
       "      <td>Standard Class</td>\n",
       "      <td>Consumer</td>\n",
       "      <td>United States</td>\n",
       "      <td>Fayetteville</td>\n",
       "      <td>Arkansas</td>\n",
       "      <td>72701</td>\n",
       "      <td>South</td>\n",
       "      <td>Office Supplies</td>\n",
       "      <td>Envelopes</td>\n",
       "      <td>105.4200</td>\n",
       "      <td>2</td>\n",
       "      <td>0.00</td>\n",
       "      <td>51.6558</td>\n",
       "      <td>53.7642</td>\n",
       "      <td>96.078431</td>\n",
       "      <td>-51.6558</td>\n",
       "    </tr>\n",
       "    <tr>\n",
       "      <th>496</th>\n",
       "      <td>Standard Class</td>\n",
       "      <td>Consumer</td>\n",
       "      <td>United States</td>\n",
       "      <td>Costa Mesa</td>\n",
       "      <td>California</td>\n",
       "      <td>92627</td>\n",
       "      <td>West</td>\n",
       "      <td>Office Supplies</td>\n",
       "      <td>Binders</td>\n",
       "      <td>119.6160</td>\n",
       "      <td>8</td>\n",
       "      <td>0.20</td>\n",
       "      <td>40.3704</td>\n",
       "      <td>79.2456</td>\n",
       "      <td>50.943396</td>\n",
       "      <td>-40.3704</td>\n",
       "    </tr>\n",
       "    <tr>\n",
       "      <th>497</th>\n",
       "      <td>Standard Class</td>\n",
       "      <td>Consumer</td>\n",
       "      <td>United States</td>\n",
       "      <td>Costa Mesa</td>\n",
       "      <td>California</td>\n",
       "      <td>92627</td>\n",
       "      <td>West</td>\n",
       "      <td>Furniture</td>\n",
       "      <td>Furnishings</td>\n",
       "      <td>255.7600</td>\n",
       "      <td>4</td>\n",
       "      <td>0.00</td>\n",
       "      <td>81.8432</td>\n",
       "      <td>173.9168</td>\n",
       "      <td>47.058824</td>\n",
       "      <td>-81.8432</td>\n",
       "    </tr>\n",
       "    <tr>\n",
       "      <th>498</th>\n",
       "      <td>Standard Class</td>\n",
       "      <td>Consumer</td>\n",
       "      <td>United States</td>\n",
       "      <td>Costa Mesa</td>\n",
       "      <td>California</td>\n",
       "      <td>92627</td>\n",
       "      <td>West</td>\n",
       "      <td>Furniture</td>\n",
       "      <td>Chairs</td>\n",
       "      <td>241.5680</td>\n",
       "      <td>2</td>\n",
       "      <td>0.20</td>\n",
       "      <td>18.1176</td>\n",
       "      <td>223.4504</td>\n",
       "      <td>8.108108</td>\n",
       "      <td>-18.1176</td>\n",
       "    </tr>\n",
       "    <tr>\n",
       "      <th>499</th>\n",
       "      <td>Standard Class</td>\n",
       "      <td>Consumer</td>\n",
       "      <td>United States</td>\n",
       "      <td>Costa Mesa</td>\n",
       "      <td>California</td>\n",
       "      <td>92627</td>\n",
       "      <td>West</td>\n",
       "      <td>Furniture</td>\n",
       "      <td>Furnishings</td>\n",
       "      <td>69.3000</td>\n",
       "      <td>9</td>\n",
       "      <td>0.00</td>\n",
       "      <td>22.8690</td>\n",
       "      <td>46.4310</td>\n",
       "      <td>49.253731</td>\n",
       "      <td>-22.8690</td>\n",
       "    </tr>\n",
       "  </tbody>\n",
       "</table>\n",
       "<p>500 rows × 16 columns</p>\n",
       "</div>"
      ],
      "text/plain": [
       "          Ship Mode    Segment        Country             City       State  \\\n",
       "0      Second Class   Consumer  United States        Henderson    Kentucky   \n",
       "1      Second Class   Consumer  United States        Henderson    Kentucky   \n",
       "2      Second Class  Corporate  United States      Los Angeles  California   \n",
       "3    Standard Class   Consumer  United States  Fort Lauderdale     Florida   \n",
       "4    Standard Class   Consumer  United States  Fort Lauderdale     Florida   \n",
       "..              ...        ...            ...              ...         ...   \n",
       "495  Standard Class   Consumer  United States     Fayetteville    Arkansas   \n",
       "496  Standard Class   Consumer  United States       Costa Mesa  California   \n",
       "497  Standard Class   Consumer  United States       Costa Mesa  California   \n",
       "498  Standard Class   Consumer  United States       Costa Mesa  California   \n",
       "499  Standard Class   Consumer  United States       Costa Mesa  California   \n",
       "\n",
       "     Postal Code Region         Category Sub-Category     Sales  Quantity  \\\n",
       "0          42420  South        Furniture    Bookcases  261.9600         2   \n",
       "1          42420  South        Furniture       Chairs  731.9400         3   \n",
       "2          90036   West  Office Supplies       Labels   14.6200         2   \n",
       "3          33311  South        Furniture       Tables  957.5775         5   \n",
       "4          33311  South  Office Supplies      Storage   22.3680         2   \n",
       "..           ...    ...              ...          ...       ...       ...   \n",
       "495        72701  South  Office Supplies    Envelopes  105.4200         2   \n",
       "496        92627   West  Office Supplies      Binders  119.6160         8   \n",
       "497        92627   West        Furniture  Furnishings  255.7600         4   \n",
       "498        92627   West        Furniture       Chairs  241.5680         2   \n",
       "499        92627   West        Furniture  Furnishings   69.3000         9   \n",
       "\n",
       "     Discount    Profit       Cost    Profit%      loss  \n",
       "0        0.00   41.9136   220.0464  19.047619  -41.9136  \n",
       "1        0.00  219.5820   512.3580  42.857143 -219.5820  \n",
       "2        0.00    6.8714     7.7486  88.679245   -6.8714  \n",
       "3        0.45 -383.0310  1340.6085 -28.571429  383.0310  \n",
       "4        0.20    2.5164    19.8516  12.676056   -2.5164  \n",
       "..        ...       ...        ...        ...       ...  \n",
       "495      0.00   51.6558    53.7642  96.078431  -51.6558  \n",
       "496      0.20   40.3704    79.2456  50.943396  -40.3704  \n",
       "497      0.00   81.8432   173.9168  47.058824  -81.8432  \n",
       "498      0.20   18.1176   223.4504   8.108108  -18.1176  \n",
       "499      0.00   22.8690    46.4310  49.253731  -22.8690  \n",
       "\n",
       "[500 rows x 16 columns]"
      ]
     },
     "execution_count": 28,
     "metadata": {},
     "output_type": "execute_result"
    }
   ],
   "source": [
    "\n",
    "store['loss']=store['Cost']-store['Sales']\n",
    "store.head(500)"
   ]
  },
  {
   "cell_type": "code",
   "execution_count": 29,
   "metadata": {},
   "outputs": [
    {
     "name": "stderr",
     "output_type": "stream",
     "text": [
      "<ipython-input-29-531e6075638b>:2: FutureWarning: Indexing with multiple keys (implicitly converted to a tuple of keys) will be deprecated, use a list instead.\n",
      "  region=store.groupby('Region')['Profit','Sales'].agg('sum')\n"
     ]
    },
    {
     "data": {
      "image/png": "[encoded data removed]",
      "text/plain": [
       "<Figure size 720x216 with 1 Axes>"
      ]
     },
     "metadata": {
      "needs_background": "light"
     },
     "output_type": "display_data"
    }
   ],
   "source": [
    "#regoion wise analysis\n",
    "region=store.groupby('Region')['Profit','Sales'].agg('sum')\n",
    "ax =region.plot(kind ='bar', figsize =(10,3), fontsize =14)\n",
    "ax.set(title='Region wise profit and sales') # title barplot\n",
    "# label each bar in barplot\n",
    "for p in ax.patches:\n",
    " # get the height of each bar\n",
    "     height = p.get_height()\n",
    " # adding text to each bar\n",
    "     ax.text(x = p.get_x()+(p.get_width()/2), # x-coordinate position of data label, padded to be in the middle of the bar\n",
    "     y = height+100, # y-coordinate position of data label, padded 100 above bar\n",
    "     s = '{:.0f}'.format(height), # data label, formatted to ignore decimals\n",
    "     ha = 'center')\n",
    "plt.show()\n"
   ]
  },
  {
   "cell_type": "code",
   "execution_count": 30,
   "metadata": {},
   "outputs": [
    {
     "data": {
      "text/plain": [
       "West       3203\n",
       "East       2848\n",
       "Central    2323\n",
       "South      1620\n",
       "Name: Region, dtype: int64"
      ]
     },
     "execution_count": 30,
     "metadata": {},
     "output_type": "execute_result"
    }
   ],
   "source": [
    "store['Region'].value_counts()"
   ]
  },
  {
   "cell_type": "code",
   "execution_count": 31,
   "metadata": {
    "scrolled": true
   },
   "outputs": [
    {
     "data": {
      "text/plain": [
       "Region\n",
       "South      241.803645\n",
       "East       238.336110\n",
       "West       226.493233\n",
       "Central    215.772661\n",
       "Name: Sales, dtype: float64"
      ]
     },
     "execution_count": 31,
     "metadata": {},
     "output_type": "execute_result"
    }
   ],
   "source": [
    "store.groupby('Region')['Sales'].agg('mean').sort_values(ascending=False)"
   ]
  },
  {
   "cell_type": "code",
   "execution_count": 32,
   "metadata": {},
   "outputs": [
    {
     "data": {
      "text/plain": [
       "Region\n",
       "West       33.849032\n",
       "East       32.135808\n",
       "South      28.857673\n",
       "Central    17.092709\n",
       "Name: Profit, dtype: float64"
      ]
     },
     "execution_count": 32,
     "metadata": {},
     "output_type": "execute_result"
    }
   ],
   "source": [
    "store.groupby('Region')['Profit'].agg('mean').sort_values(ascending=False)"
   ]
  },
  {
   "cell_type": "code",
   "execution_count": 33,
   "metadata": {},
   "outputs": [
    {
     "data": {
      "text/plain": [
       "1871"
      ]
     },
     "execution_count": 33,
     "metadata": {},
     "output_type": "execute_result"
    }
   ],
   "source": [
    "lossmakers=((store['Profit%']<0).value_counts())\n",
    "lossmakers[True] #stores making losses"
   ]
  },
  {
   "cell_type": "code",
   "execution_count": 34,
   "metadata": {},
   "outputs": [
    {
     "data": {
      "text/plain": [
       "'Out of a 9994 stores,1871 are running into losses,that is 18.721232739643785 % of total stores.'"
      ]
     },
     "execution_count": 34,
     "metadata": {},
     "output_type": "execute_result"
    }
   ],
   "source": [
    "\"Out of a {} stores,{} are running into losses,that is {} % of total stores.\".format(total,lossmakers[True],(lossmakers[True]/total)*100)"
   ]
  },
  {
   "cell_type": "markdown",
   "metadata": {},
   "source": [
    "# State-wise Analysis:\n"
   ]
  },
  {
   "cell_type": "code",
   "execution_count": null,
   "metadata": {},
   "outputs": [],
   "source": [
    "#top 10 states in Sales and Profits:\n",
    "Top_10_Sales = store.groupby(\"State\").Sales.sum().nlargest(n =10)\n",
    "Top_10_Profits = store.groupby(\"State\").Profit.sum().nlargest(n =10)"
   ]
  },
  {
   "cell_type": "code",
   "execution_count": null,
   "metadata": {},
   "outputs": [],
   "source": [
    "Top_10_Sales.index"
   ]
  },
  {
   "cell_type": "code",
   "execution_count": null,
   "metadata": {},
   "outputs": [],
   "source": [
    "Top_10_Profits.index"
   ]
  },
  {
   "cell_type": "code",
   "execution_count": null,
   "metadata": {},
   "outputs": [],
   "source": [
    "\n",
    "ax =Top_10_Sales.plot(kind ='bar', figsize =(14,8), fontsize =14)\n",
    "ax.set(title=' State Sales') # title barplot\n",
    "# label each bar in barplot\n",
    "for p in ax.patches:\n",
    " # get the height of each bar\n",
    "     height = p.get_height()\n",
    " # adding text to each bar\n",
    "     ax.text(x = p.get_x()+(p.get_width()/2), # x-coordinate position of data label, padded to be in the middle of the bar\n",
    "     y = height+100, # y-coordinate position of data label, padded 100 above bar\n",
    "     s = '{:.0f}'.format(height), # data label, formatted to ignore decimals\n",
    "     ha = 'center')\n",
    "plt.show()"
   ]
  },
  {
   "cell_type": "code",
   "execution_count": null,
   "metadata": {},
   "outputs": [],
   "source": [
    "ax =Top_10_Profits.plot(kind ='bar', figsize =(14,8), fontsize =14)\n",
    "ax.set(title='State Profits') # title barplot\n",
    "# label each bar in barplot\n",
    "for p in ax.patches:\n",
    " # get the height of each bar\n",
    "     height = p.get_height()\n",
    " # adding text to each bar\n",
    "     ax.text(x = p.get_x()+(p.get_width()/2), # x-coordinate position of data label, padded to be in the middle of the bar\n",
    "     y = height+100, # y-coordinate position of data label, padded 100 above bar\n",
    "     s = '{:.0f}'.format(height), # data label, formatted to ignore decimals\n",
    "     ha = 'center')\n",
    "plt.show()"
   ]
  },
  {
   "cell_type": "code",
   "execution_count": null,
   "metadata": {},
   "outputs": [],
   "source": [
    "\n",
    "data1 = store['State'].value_counts()\n",
    "data1"
   ]
  },
  {
   "cell_type": "code",
   "execution_count": null,
   "metadata": {},
   "outputs": [],
   "source": [
    "\n",
    "store['State'].value_counts().plot(kind='bar', figsize= (20,15))\n",
    "plt.ylabel('Frequency / Number of deals')\n",
    "plt.xlabel('States')\n",
    "\n",
    "plt.title('State Wise Deals', fontsize = 20)\n",
    "plt.show()"
   ]
  },
  {
   "cell_type": "markdown",
   "metadata": {},
   "source": [
    "*Conclusion drawn:*\n",
    "- California: Highest no.of deals \n",
    "- Wyoming: Lowest no.of deals"
   ]
  },
  {
   "cell_type": "code",
   "execution_count": null,
   "metadata": {},
   "outputs": [],
   "source": [
    "\n",
    "store['State'].value_counts().mean()"
   ]
  },
  {
   "cell_type": "code",
   "execution_count": null,
   "metadata": {},
   "outputs": [],
   "source": [
    "data1[data1<store['State'].value_counts().mean()].index"
   ]
  },
  {
   "cell_type": "code",
   "execution_count": null,
   "metadata": {},
   "outputs": [],
   "source": [
    "belavg=len(data1[data1<store['State'].value_counts().mean()].index)\n"
   ]
  },
  {
   "cell_type": "code",
   "execution_count": null,
   "metadata": {},
   "outputs": [],
   "source": [
    "\"There are {} states with below average number of dealings,they must ramp up sales, in order to increase profits\".format(belavg)"
   ]
  },
  {
   "cell_type": "code",
   "execution_count": null,
   "metadata": {},
   "outputs": [],
   "source": [
    "\n",
    "data_state = store.groupby(['State'])[['Sales', 'Discount', 'Profit']].mean()\n",
    "data_state"
   ]
  },
  {
   "cell_type": "code",
   "execution_count": null,
   "metadata": {},
   "outputs": [],
   "source": [
    "\n",
    "data_state.sort_values('Profit')[[ 'Profit']].plot(kind = 'bar', figsize = (15,5))\n",
    "plt.title('State wise Profit Analysis', fontsize = 20)\n",
    "plt.ylabel('Profit per Sate')\n",
    "plt.xlabel('States')\n",
    "plt.show()"
   ]
  },
  {
   "cell_type": "code",
   "execution_count": null,
   "metadata": {},
   "outputs": [],
   "source": [
    "data_state.sort_values('Discount')[[ 'Discount']].plot(kind = 'bar', figsize = (15,5))\n",
    "plt.title('State wise Discount Analysis', fontsize = 20)\n",
    "plt.ylabel('Discount per Sate')\n",
    "plt.xlabel('States')\n",
    "plt.show()"
   ]
  },
  {
   "cell_type": "markdown",
   "metadata": {},
   "source": [
    "# City wise Analysis:"
   ]
  },
  {
   "cell_type": "code",
   "execution_count": null,
   "metadata": {},
   "outputs": [],
   "source": [
    "ax =citysales_most.plot(kind ='bar', figsize =(10,3), fontsize =14)\n",
    "ax.set(title=' top 10 City Sales') # title barplot\n",
    "# label each bar in barplot\n",
    "for p in ax.patches:\n",
    " # get the height of each bar\n",
    "     height = p.get_height()\n",
    " # adding text to each bar\n",
    "     ax.text(x = p.get_x()+(p.get_width()/2), # x-coordinate position of data label, padded to be in the middle of the bar\n",
    "     y = height+100, # y-coordinate position of data label, padded 100 above bar\n",
    "     s = '{:.0f}'.format(height), # data label, formatted to ignore decimals\n",
    "     ha = 'center')\n",
    "plt.show()"
   ]
  },
  {
   "cell_type": "code",
   "execution_count": null,
   "metadata": {},
   "outputs": [],
   "source": [
    "data_city = store.groupby(['City'])[['Sales', 'Discount', 'Profit']].mean()\n",
    "data_city = data_city.sort_values(['Profit'])\n",
    "data_city"
   ]
  },
  {
   "cell_type": "code",
   "execution_count": null,
   "metadata": {
    "scrolled": true
   },
   "outputs": [],
   "source": [
    "\n",
    "ax =data_city['Profit'].tail(10).plot(kind = 'bar', figsize = (10,5), color = 'red')\n",
    "ax.set(title='10 Cities with Higher Profit') # title barplot\n",
    "# label each bar in barplot\n",
    "for p in ax.patches:\n",
    " # get the height of each bar\n",
    "     height = p.get_height()\n",
    " # adding text to each bar\n",
    "     ax.text(x = p.get_x()+(p.get_width()/2), # x-coordinate position of data label, padded to be in the middle of the bar\n",
    "     y = height+5, # y-coordinate position of data label, padded 100 above bar\n",
    "     s = '{:.0f}'.format(height), # data label, formatted to ignore decimals\n",
    "     ha = 'center')\n",
    "plt.xticks(rotation=45)\n",
    "plt.show()"
   ]
  },
  {
   "cell_type": "code",
   "execution_count": null,
   "metadata": {},
   "outputs": [],
   "source": [
    "\n",
    "ax =data_city['Profit'].head(10).plot(kind = 'bar', figsize = (15,5), color = 'red')\n",
    "ax.set(title='10 Cities with Least Profit') # title barplot\n",
    "# label each bar in barplot\n",
    "for p in ax.patches:\n",
    " # get the height of each bar\n",
    "     height = p.get_height()\n",
    " # adding text to each bar\n",
    "     ax.text(x = p.get_x()+(p.get_width()/2), # x-coordinate position of data label, padded to be in the middle of the bar\n",
    "     y = height-6, # y-coordinate position of data label, padded 100 above bar\n",
    "     s = '{:.0f}'.format(height), # data label, formatted to ignore decimals\n",
    "     ha = 'center')\n",
    "plt.xticks(rotation=45)\n",
    "plt.show()"
   ]
  },
  {
   "cell_type": "markdown",
   "metadata": {},
   "source": [
    "# Category Wise Sales, Discount and Profit Analysis:"
   ]
  },
  {
   "cell_type": "code",
   "execution_count": 61,
   "metadata": {
    "scrolled": true
   },
   "outputs": [],
   "source": [
    "data_category = store.groupby(['Category'])[['Sales', 'Discount', 'Profit']].mean()\n"
   ]
  },
  {
   "cell_type": "code",
   "execution_count": 39,
   "metadata": {},
   "outputs": [
    {
     "name": "stderr",
     "output_type": "stream",
     "text": [
      "c:\\python38\\lib\\site-packages\\pandas\\plotting\\_matplotlib\\core.py:1600: MatplotlibDeprecationWarning: normalize=None does not normalize if the sum is less than 1 but this behavior is deprecated since 3.3 until two minor releases later. After the deprecation period the default value will be normalize=True. To prevent normalization pass normalize=False \n",
      "  results = ax.pie(y, labels=blabels, **kwds)\n"
     ]
    },
    {
     "data": {
      "image/png": "[encoded data removed]",
      "text/plain": [
       "<Figure size 1296x1440 with 3 Axes>"
      ]
     },
     "metadata": {},
     "output_type": "display_data"
    }
   ],
   "source": [
    "plot = data_category.plot.pie(subplots=True, figsize=(18, 20), autopct='%1.1f%%', labels = data_category.index)"
   ]
  },
  {
   "cell_type": "markdown",
   "metadata": {},
   "source": [
    "*Conclusion drawn:*\n",
    "- Technology products drive maximum sales and profit while giving the least discounts\n"
   ]
  },
  {
   "cell_type": "code",
   "execution_count": 51,
   "metadata": {},
   "outputs": [
    {
     "name": "stderr",
     "output_type": "stream",
     "text": [
      "<ipython-input-51-53ae7df18056>:2: FutureWarning: Indexing with multiple keys (implicitly converted to a tuple of keys) will be deprecated, use a list instead.\n",
      "  store.groupby('Sub-Category')['Profit','Sales'].agg(['mean']).plot.bar()\n"
     ]
    },
    {
     "data": {
      "text/plain": [
       "<Figure size 1080x720 with 0 Axes>"
      ]
     },
     "metadata": {},
     "output_type": "display_data"
    },
    {
     "data": {
      "image/png": "[encoded data removed]",
      "text/plain": [
       "<Figure size 432x288 with 1 Axes>"
      ]
     },
     "metadata": {
      "needs_background": "light"
     },
     "output_type": "display_data"
    }
   ],
   "source": [
    "plt.figure(figsize= (15,10))\n",
    "store.groupby('Sub-Category')['Profit','Sales'].agg(['mean']).plot.bar()\n",
    "plt.show()"
   ]
  },
  {
   "cell_type": "markdown",
   "metadata": {},
   "source": [
    "*Conclusion drawn:*\n",
    "- Copiers get sold the most\n",
    "- Fasteners get sold the least\n",
    "-Tables and Bookcases make no profits at all"
   ]
  },
  {
   "cell_type": "code",
   "execution_count": 47,
   "metadata": {},
   "outputs": [
    {
     "data": {
      "image/png": "[encoded data removed]",
      "text/plain": [
       "<Figure size 1080x360 with 1 Axes>"
      ]
     },
     "metadata": {
      "needs_background": "light"
     },
     "output_type": "display_data"
    }
   ],
   "source": [
    "data_subcategory = store.groupby(['Sub-Category'])[['Sales', 'Discount', 'Profit']].mean()\n",
    "data_subcategory.sort_values('Profit')[['Sales','Profit']].plot(kind='bar',figsize= (15,5),label=['Avg Sales Price($)','Profit($)'])\n",
    "plt.show()"
   ]
  },
  {
   "cell_type": "code",
   "execution_count": 50,
   "metadata": {
    "scrolled": true
   },
   "outputs": [
    {
     "data": {
      "image/png": "[encoded data removed]",
      "text/plain": [
       "<Figure size 1296x360 with 1 Axes>"
      ]
     },
     "metadata": {
      "needs_background": "light"
     },
     "output_type": "display_data"
    }
   ],
   "source": [
    "fig = plt.figure(figsize=(18,5))\n",
    "axes = fig.add_subplot(111)\n",
    "s = sns.countplot('Sub-Category', data =store)\n",
    "for s in axes.patches:\n",
    "    axes.annotate('{:.0f}'.format(s.get_height()), (s.get_x()+0.15, s.get_height()+15)) #position arguements\n",
    "plt.grid(color='gray', linestyle='--', linewidth=0.3)\n",
    "plt.title(\"Sub-Category Counts\", fontsize=15)\n",
    "plt.show()"
   ]
  },
  {
   "cell_type": "code",
   "execution_count": 64,
   "metadata": {},
   "outputs": [
    {
     "name": "stderr",
     "output_type": "stream",
     "text": [
      "No handles with labels found to put in legend.\n"
     ]
    },
    {
     "data": {
      "image/png": "[encoded data removed]",
      "text/plain": [
       "<Figure size 1080x360 with 1 Axes>"
      ]
     },
     "metadata": {
      "needs_background": "light"
     },
     "output_type": "display_data"
    }
   ],
   "source": [
    "\n",
    "plt.figure(figsize = (15,5))\n",
    "sns.barplot(x='Sub-Category',y='Discount', data=store)\n",
    "plt.title('Sub-Category Wise Discount Analysis', fontsize = 20)\n",
    "plt.legend()\n",
    "plt.xticks(rotation = 90)\n",
    "plt.show()"
   ]
  },
  {
   "cell_type": "markdown",
   "metadata": {},
   "source": [
    "*Conclusion drawn:*\n",
    "- Max discount was given on Binders\n",
    "- Least discount was given on labels\n",
    "- Tables and Bookcases are giving higher than usual discounts,this can be reduced in order to cover up for the negative profit margins"
   ]
  }
 ],
 "metadata": {
  "kernelspec": {
   "display_name": "Python 3",
   "language": "python",
   "name": "python3"
  },
  "language_info": {
   "codemirror_mode": {
    "name": "ipython",
    "version": 3
   },
   "file_extension": ".py",
   "mimetype": "text/x-python",
   "name": "python",
   "nbconvert_exporter": "python",
   "pygments_lexer": "ipython3",
   "version": "3.8.2"
  }
 },
 "nbformat": 4,
 "nbformat_minor": 4
}
